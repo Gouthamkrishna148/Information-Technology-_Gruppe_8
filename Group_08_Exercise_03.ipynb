{
 "cells": [
  {
   "cell_type": "markdown",
   "metadata": {},
   "source": [
    "# Exercice 1\n",
    "\n",
    "Write a function called **string_to_array** to split a string and convert it into an array of words. The function should take one str argument and does not return anything, just print the array of words. \n",
    "\n",
    "For example:\n",
    "\n",
    "```python\n",
    "\"Robin Singh\" should return [\"Robin\", \"Singh\"]\n",
    "\n",
    "\"I love arrays they are my favorite\" should return [\"I\", \"love\", \"arrays\", \"they\", \"are\", \"my\", \"favorite\"]\n",
    "```\n",
    "\n",
    "### check your answer with the following strings \n",
    "\n",
    "`\n",
    "string_to_array(\"Robin Singh\") should print [\"Robin\", \"Singh\"])\n",
    "string_to_array(\"CodeWars\") should print [\"CodeWars\"]\n",
    "string_to_array(\"I love arrays they are my favorite\") should print [\"I\", \"love\", \"arrays\", \"they\", \"are\", \"my\", \"favorite\"]\n",
    "string_to_array(\"1 2 3\") should print [\"1\", \"2\", \"3\"]\n",
    "string_to_array(\"\") should print [\"\"]\n",
    "`"
   ]
  },
  {
   "cell_type": "code",
   "execution_count": 8,
   "metadata": {},
   "outputs": [],
   "source": [
    "# NOTE! \"pass\" is a keyword for an empty function. It tells the compiler that it is not an error if a function is empty\n",
    "def string_to_array(s):\n",
    "    if s.split() == []:\n",
    "        l = []\n",
    "        l.append(s)\n",
    "        print(l)\n",
    "    else:\n",
    "        s = str(s)\n",
    "        print(s.split())\n"
   ]
  },
  {
   "cell_type": "code",
   "execution_count": 9,
   "metadata": {},
   "outputs": [
    {
     "name": "stdout",
     "output_type": "stream",
     "text": [
      "['Robin', 'Singh']\n",
      "['CodeWars']\n",
      "['I', 'love', 'arrays', 'they', 'are', 'my', 'favorite']\n",
      "['1', '2', '3']\n",
      "['']\n"
     ]
    }
   ],
   "source": [
    "string_to_array(\"Robin Singh\") \n",
    "string_to_array(\"CodeWars\") \n",
    "string_to_array(\"I love arrays they are my favorite\") \n",
    "string_to_array(\"1 2 3\") \n",
    "string_to_array(\"\")"
   ]
  },
  {
   "cell_type": "markdown",
   "metadata": {},
   "source": [
    "# Exercice 2: \n",
    "\n",
    "Usually when you buy something, you're asked whether your credit card number, phone number or answer to your most secret question is still correct. However, since someone could look over your shoulder, you don't want that shown on your screen. Instead, we mask it.\n",
    "\n",
    "Your task is to write a function called **maskify**, which changes all but the last four characters into '#' and return the value as a string (str).\n",
    "\n",
    "Output example: \n",
    "\"What was the name of your first pet?\"\n",
    "\n",
    "```python \n",
    "maskify(\"Skippy\")                                   == \"##ippy\"\n",
    "maskify(\"Nananananananananananananananana Batman!\") == \"####################################man!\"\n",
    "```\n",
    "\n",
    "### check your answer with the following strings \n",
    "```python \n",
    "maskify(\"4556364607935616\") == \"############5616\"\n",
    "maskify(     \"64607935616\") ==      \"#######5616\"\n",
    "maskify(               \"1\") ==                \"1\"\n",
    "maskify(                \"\") ==                 \"\"\n",
    "```\n",
    "\n"
   ]
  },
  {
   "cell_type": "code",
   "execution_count": 77,
   "metadata": {},
   "outputs": [],
   "source": [
    "# your code here\n",
    "def maskify(s):\n",
    "    s = str(s)\n",
    "    if len(s) <=4:\n",
    "        return s\n",
    "    else:\n",
    "        return \"#\" * (len(s) - 4) + s[-4:]"
   ]
  },
  {
   "cell_type": "code",
   "execution_count": 78,
   "metadata": {},
   "outputs": [
    {
     "data": {
      "text/plain": [
       "'############5616'"
      ]
     },
     "execution_count": 78,
     "metadata": {},
     "output_type": "execute_result"
    }
   ],
   "source": [
    "# test your function here \n",
    "maskify(\"4556364607935616\")"
   ]
  },
  {
   "cell_type": "code",
   "execution_count": 79,
   "metadata": {},
   "outputs": [
    {
     "data": {
      "text/plain": [
       "'#######5616'"
      ]
     },
     "execution_count": 79,
     "metadata": {},
     "output_type": "execute_result"
    }
   ],
   "source": [
    "maskify(     \"64607935616\")"
   ]
  },
  {
   "cell_type": "code",
   "execution_count": 80,
   "metadata": {},
   "outputs": [
    {
     "data": {
      "text/plain": [
       "'1'"
      ]
     },
     "execution_count": 80,
     "metadata": {},
     "output_type": "execute_result"
    }
   ],
   "source": [
    "maskify(               \"1\") "
   ]
  },
  {
   "cell_type": "code",
   "execution_count": 81,
   "metadata": {},
   "outputs": [
    {
     "data": {
      "text/plain": [
       "''"
      ]
     },
     "execution_count": 81,
     "metadata": {},
     "output_type": "execute_result"
    }
   ],
   "source": [
    "maskify(                \"\") "
   ]
  },
  {
   "cell_type": "markdown",
   "metadata": {},
   "source": [
    "# Exercice 3\n",
    "Your task is to create a function that does four basic mathematical operations.\n",
    "\n",
    "The function should take three arguments - \n",
    "\n",
    "operation(string/char), \n",
    "\n",
    "value1(number), \n",
    "\n",
    "value2(number).\n",
    "\n",
    "The function should return result of numbers after applying the chosen operation.\n",
    "\n",
    "Examples\n",
    "```python\n",
    "basic_op('+', 4, 7)         # Output: 11\n",
    "basic_op('-', 15, 18)       # Output: -3\n",
    "basic_op('*', 5, 5)         # Output: 25\n",
    "basic_op('/', 49, 7)        # Output: 7\n",
    "```"
   ]
  },
  {
   "cell_type": "code",
   "execution_count": 82,
   "metadata": {},
   "outputs": [],
   "source": [
    "# your code here \n",
    "\n",
    "def basic_op(s,a, b):\n",
    "    if s == '+':\n",
    "        return a+b\n",
    "    elif s == '-':\n",
    "        return a-b\n",
    "    elif s == '*':\n",
    "        return a*b\n",
    "    elif s =='/':\n",
    "        return a/b\n"
   ]
  },
  {
   "cell_type": "code",
   "execution_count": 83,
   "metadata": {},
   "outputs": [
    {
     "data": {
      "text/plain": [
       "11"
      ]
     },
     "execution_count": 83,
     "metadata": {},
     "output_type": "execute_result"
    }
   ],
   "source": [
    "#test \n",
    "basic_op('+', 4, 7)         # Output: 11"
   ]
  },
  {
   "cell_type": "code",
   "execution_count": 84,
   "metadata": {},
   "outputs": [
    {
     "data": {
      "text/plain": [
       "-3"
      ]
     },
     "execution_count": 84,
     "metadata": {},
     "output_type": "execute_result"
    }
   ],
   "source": [
    "basic_op('-', 15, 18)       # Output: -3"
   ]
  },
  {
   "cell_type": "code",
   "execution_count": 85,
   "metadata": {},
   "outputs": [
    {
     "data": {
      "text/plain": [
       "25"
      ]
     },
     "execution_count": 85,
     "metadata": {},
     "output_type": "execute_result"
    }
   ],
   "source": [
    "basic_op('*', 5, 5)         # Output: 25"
   ]
  },
  {
   "cell_type": "code",
   "execution_count": 86,
   "metadata": {},
   "outputs": [
    {
     "data": {
      "text/plain": [
       "7.0"
      ]
     },
     "execution_count": 86,
     "metadata": {},
     "output_type": "execute_result"
    }
   ],
   "source": [
    "basic_op('/', 49, 7)        # Output: 7"
   ]
  },
  {
   "cell_type": "markdown",
   "metadata": {},
   "source": [
    "# Exercice 4\n",
    "Who remembers back to their time in the schoolyard, when you would take a flower and tear its petals, saying each of the following phrases each time a petal was torn:\n",
    "\n",
    "`\n",
    "I like you\n",
    "a little\n",
    "a lot\n",
    "passionately\n",
    "madly\n",
    "not at all\n",
    "`\n",
    "\n",
    "When the last petal was torn there were cries of excitement, dreams, surging thoughts and emotions.\n",
    "\n",
    "\n",
    "Your goal is to determine which phrase you would say for a flower of a given number of petals, where **nb_petals > 0**.\n",
    "\n",
    "Examples: \n",
    "\n",
    "```python\n",
    "how_much_i_like_you(7)         # Output: \"I like you\"\n",
    "how_much_i_like_you(2)         # Output: \"a little\"\n",
    "how_much_i_like_you(5)         # Output: \"madly\"\n",
    "how_much_i_like_you(9)         # Output: \"a lot\"\n",
    "```\n",
    "\n"
   ]
  },
  {
   "cell_type": "code",
   "execution_count": 87,
   "metadata": {},
   "outputs": [],
   "source": [
    "# your code here \n",
    "def how_much_i_like_you(n):\n",
    "    p = [\"I like you\",\"a little\",\"a lot\",\"passionately\",\"madly\",\"not at all\"]\n",
    "    if n <= len(p):\n",
    "        return p[n-1]\n",
    "    else:\n",
    "        return p[(n % len(p))-1]"
   ]
  },
  {
   "cell_type": "code",
   "execution_count": 88,
   "metadata": {},
   "outputs": [
    {
     "data": {
      "text/plain": [
       "'I like you'"
      ]
     },
     "execution_count": 88,
     "metadata": {},
     "output_type": "execute_result"
    }
   ],
   "source": [
    "# Test \n",
    "how_much_i_like_you(7)  \n"
   ]
  },
  {
   "cell_type": "code",
   "execution_count": 89,
   "metadata": {},
   "outputs": [
    {
     "data": {
      "text/plain": [
       "'a little'"
      ]
     },
     "execution_count": 89,
     "metadata": {},
     "output_type": "execute_result"
    }
   ],
   "source": [
    "how_much_i_like_you(2)  "
   ]
  },
  {
   "cell_type": "code",
   "execution_count": 90,
   "metadata": {},
   "outputs": [
    {
     "data": {
      "text/plain": [
       "'madly'"
      ]
     },
     "execution_count": 90,
     "metadata": {},
     "output_type": "execute_result"
    }
   ],
   "source": [
    "how_much_i_like_you(5)  "
   ]
  },
  {
   "cell_type": "code",
   "execution_count": 91,
   "metadata": {},
   "outputs": [
    {
     "data": {
      "text/plain": [
       "'a lot'"
      ]
     },
     "execution_count": 91,
     "metadata": {},
     "output_type": "execute_result"
    }
   ],
   "source": [
    "how_much_i_like_you(9)  "
   ]
  },
  {
   "cell_type": "markdown",
   "metadata": {},
   "source": [
    "# Exercice 5 (slicing)\n",
    "You are going to be given an array of integers. Your job is to take that array and find an index N where the sum of the integers to the left of N is equal to the sum of the integers to the right of N. If there is no index that would make this happen, return -1.\n",
    "\n",
    "For example:\n",
    "\n",
    "Let's say you are given the array {1,2,3,4,3,2,1}:\n",
    "Your function will return the index 3, because at the 3rd position of the array, the sum of left side of the index ({1,2,3}) and the sum of the right side of the index ({3,2,1}) both equal 6.\n",
    "\n",
    "Let's look at another one.\n",
    "You are given the array {1,100,50,-51,1,1}:\n",
    "Your function will return the index 1, because at the 1st position of the array, the sum of left side of the index ({1}) and the sum of the right side of the index ({50,-51,1,1}) both equal 1.\n",
    "\n",
    "Last one:\n",
    "You are given the array {20,10,-80,10,10,15,35}\n",
    "At index 0 the left side is {}\n",
    "The right side is {10,-80,10,10,15,35}\n",
    "They both are equal to 0 when added. (Empty arrays are equal to 0 in this problem)\n",
    "Index 0 is the place where the left side and right side are equal.\n",
    "\n",
    "Note: Please remember that in python the index of an array starts at 0.\n",
    "\n",
    "Input:\n",
    "An integer array of length 0 < arr < 1000. The numbers in the array can be any integer positive or negative.\n",
    "\n",
    "Output:\n",
    "The lowest index N where the side to the left of N is equal to the side to the right of N. If you do not find an index that fits these rules, then you will return -1.\n",
    "\n",
    "Note:\n",
    "If you are given an array with multiple answers, return the lowest correct index.\n",
    "\n",
    "Check your answer with the following arrays\n",
    "\n",
    "`\n",
    "find_even_index([1,2,3,4,3,2,1]) should return 3\n",
    "find_even_index([1,100,50,-51,1,1]) should return 1\n",
    "find_even_index([1,2,3,4,5,6]) should return -1\n",
    "find_even_index([20,10,30,10,10,15,35]) should return 3\n",
    "find_even_index([20,10,-80,10,10,15,35]) should return 0\n",
    "find_even_index([10,-80,10,10,15,35,20]) should return 6\n",
    "find_even_index(range(1,100)) should return -1\n",
    "find_even_index([-1,-2,-3,-4,-3,-2,-1]) should return 3\n",
    "find_even_index(range(-100,-1)) should return -1\n",
    "find_even_index([0,0,0,0,0]) should return 0 because it Should pick the first index if more cases are valid\n",
    "`"
   ]
  },
  {
   "cell_type": "code",
   "execution_count": 92,
   "metadata": {},
   "outputs": [],
   "source": [
    "def find_even_index(l):\n",
    "    m = l[::-1]\n",
    "    res = {'index':-1}       \n",
    "    for a,b  in enumerate(m):\n",
    "        if sum(m[:a+1]) == 0:\n",
    "            res['index'] = 0     \n",
    "            break\n",
    "    else:\n",
    "         for i,j in enumerate(l):\n",
    "\n",
    "            for x,y in enumerate(m):\n",
    "                #print(l[:i+1], m[:x+1])\n",
    "                if sum(l[:i+1]) == sum(m[:x+1]) and (i+1<len(l)-i) and (x+1<len(m)-x):\n",
    "                    right_rev = m[:x+1]\n",
    "                    left = l[:i+1]\n",
    "                    res['index'] = len(left)\n",
    "                    \n",
    "                    break\n",
    "\n",
    "\n",
    "    if res['index'] ==0:\n",
    "        return res['index']\n",
    "    elif res['index'] >=1:\n",
    "        #print(f\"{left} and {right_rev[::-1]} are equal\")\n",
    "        return res['index']\n",
    "    else:\n",
    "        return -1"
   ]
  },
  {
   "cell_type": "code",
   "execution_count": 93,
   "metadata": {},
   "outputs": [
    {
     "data": {
      "text/plain": [
       "1"
      ]
     },
     "execution_count": 93,
     "metadata": {},
     "output_type": "execute_result"
    }
   ],
   "source": [
    "# Test \n",
    "find_even_index([1,100,50,-51,1,1]) "
   ]
  },
  {
   "cell_type": "code",
   "execution_count": 94,
   "metadata": {},
   "outputs": [
    {
     "data": {
      "text/plain": [
       "-1"
      ]
     },
     "execution_count": 94,
     "metadata": {},
     "output_type": "execute_result"
    }
   ],
   "source": [
    "find_even_index([10,-80,10,10,15,35,20])"
   ]
  },
  {
   "cell_type": "code",
   "execution_count": 95,
   "metadata": {},
   "outputs": [
    {
     "data": {
      "text/plain": [
       "0"
      ]
     },
     "execution_count": 95,
     "metadata": {},
     "output_type": "execute_result"
    }
   ],
   "source": [
    "find_even_index([20,10,-80,10,10,15,35])"
   ]
  },
  {
   "cell_type": "markdown",
   "metadata": {},
   "source": [
    "# Exercice 6 \n",
    "You are given an input string.\n",
    "\n",
    "For each symbol in the string if it's the first character occurence, replace it with a '1', else replace it with the amount of times you've already seen it...\n",
    "\n",
    "Examples: \n",
    "\n",
    "```python\n",
    "input   =  \"Hello, World!\"\n",
    "result  =  \"1112111121311\"\n",
    "\n",
    "input   =  \"aaaaaaaaaaaa\"\n",
    "result  =  \"123456789101112\"\n",
    "```\n",
    "\n",
    "Test your code with the following strings\n",
    "\n",
    "`\n",
    "numericals(\"Hello, World!\")  should return  \"1112111121311\"\n",
    "numericals(\"Hello, World! It's me, JomoPipi!\") should return \"11121111213112111131224132411122\"\n",
    "numericals(\"hello hello\") should return  \"11121122342\"\n",
    "numericals(\"Hello\") should return \"11121\"\n",
    "numericals(\"aaaaaaaaaaaa\") should return \"123456789101112\"\n",
    "`"
   ]
  },
  {
   "cell_type": "code",
   "execution_count": 2,
   "metadata": {},
   "outputs": [],
   "source": [
    "# your code here \n",
    "def numericals(s):\n",
    "    res = \"\"\n",
    "    for i in range(len(s)):\n",
    "        res = res + str(s[:i+1].count(s[i]))\n",
    "    return res\n"
   ]
  },
  {
   "cell_type": "code",
   "execution_count": 3,
   "metadata": {},
   "outputs": [
    {
     "data": {
      "text/plain": [
       "'1112111121311'"
      ]
     },
     "execution_count": 3,
     "metadata": {},
     "output_type": "execute_result"
    }
   ],
   "source": [
    "numericals(\"Hello, World!\")"
   ]
  },
  {
   "cell_type": "code",
   "execution_count": 4,
   "metadata": {},
   "outputs": [
    {
     "data": {
      "text/plain": [
       "'11121111213112111131224132411122'"
      ]
     },
     "execution_count": 4,
     "metadata": {},
     "output_type": "execute_result"
    }
   ],
   "source": [
    "numericals(\"Hello, World! It's me, JomoPipi!\")"
   ]
  },
  {
   "cell_type": "code",
   "execution_count": 5,
   "metadata": {},
   "outputs": [
    {
     "data": {
      "text/plain": [
       "'11121122342'"
      ]
     },
     "execution_count": 5,
     "metadata": {},
     "output_type": "execute_result"
    }
   ],
   "source": [
    "numericals(\"hello hello\")"
   ]
  },
  {
   "cell_type": "code",
   "execution_count": 6,
   "metadata": {},
   "outputs": [
    {
     "data": {
      "text/plain": [
       "'11121'"
      ]
     },
     "execution_count": 6,
     "metadata": {},
     "output_type": "execute_result"
    }
   ],
   "source": [
    "numericals(\"Hello\")"
   ]
  },
  {
   "cell_type": "code",
   "execution_count": 7,
   "metadata": {},
   "outputs": [
    {
     "data": {
      "text/plain": [
       "'123456789101112'"
      ]
     },
     "execution_count": 7,
     "metadata": {},
     "output_type": "execute_result"
    }
   ],
   "source": [
    "numericals(\"aaaaaaaaaaaa\")"
   ]
  },
  {
   "cell_type": "markdown",
   "metadata": {},
   "source": [
    "# Exercice 7 \n",
    "\n",
    "Write a function called 'solve'. It shoud take two arrays of string and return the number of times each string of the second array appears in the first array.\n",
    "\n",
    "Example\n",
    "\n",
    "array1 = ['abc', 'abc', 'xyz', 'cde', 'uvw']\n",
    "\n",
    "array2 = ['abc', 'cde', 'uap']\n",
    "\n",
    "How many times do the elements in array2 appear in array1?\n",
    "\n",
    "\n",
    "'abc' appears twice in the first array (2)\n",
    "\n",
    "'cde' appears only once (1)\n",
    "\n",
    "'uap' does not appear in the first array (0)\n",
    "\n",
    "Therefore, solve(array1, array2) = [2, 1, 0]\n",
    "\n"
   ]
  },
  {
   "cell_type": "code",
   "execution_count": 98,
   "metadata": {},
   "outputs": [
    {
     "data": {
      "text/plain": [
       "[2, 1, 0]"
      ]
     },
     "execution_count": 98,
     "metadata": {},
     "output_type": "execute_result"
    }
   ],
   "source": [
    "# your code here\n",
    "array1 = ['abc', 'abc', 'xyz', 'cde', 'uvw']\n",
    "array2 = ['abc', 'cde', 'uap']\n",
    "\n",
    "def solve(array1, array2):\n",
    "    l = []\n",
    "    for i in array2:\n",
    "        l.append(array1.count(i))\n",
    "    return l\n",
    "    \n",
    "solve(array1, array2)"
   ]
  },
  {
   "cell_type": "code",
   "execution_count": 99,
   "metadata": {},
   "outputs": [
    {
     "data": {
      "text/plain": [
       "[2, 1, 0]"
      ]
     },
     "execution_count": 99,
     "metadata": {},
     "output_type": "execute_result"
    }
   ],
   "source": [
    "# test your function with those values \n",
    "solve(['abc', 'abc','xyz','abcd','cde'], ['abc', 'cde', 'uap']) # should give [2, 1, 0]"
   ]
  },
  {
   "cell_type": "code",
   "execution_count": 100,
   "metadata": {},
   "outputs": [
    {
     "data": {
      "text/plain": [
       "[2, 1, 2]"
      ]
     },
     "execution_count": 100,
     "metadata": {},
     "output_type": "execute_result"
    }
   ],
   "source": [
    "solve(['abc', 'xyz','abc', 'xyz','cde'], ['abc', 'cde', 'xyz']) # should give  [2, 1, 2])"
   ]
  },
  {
   "cell_type": "code",
   "execution_count": 101,
   "metadata": {},
   "outputs": [
    {
     "data": {
      "text/plain": [
       "[2, 0, 1]"
      ]
     },
     "execution_count": 101,
     "metadata": {},
     "output_type": "execute_result"
    }
   ],
   "source": [
    "solve(['quick', 'brown', 'fox', 'is', 'quick'], ['quick', 'abc', 'fox']) # should give [2, 0, 1])"
   ]
  },
  {
   "cell_type": "code",
   "execution_count": null,
   "metadata": {},
   "outputs": [],
   "source": []
  }
 ],
 "metadata": {
  "kernelspec": {
   "display_name": "Python 3",
   "language": "python",
   "name": "python3"
  },
  "language_info": {
   "codemirror_mode": {
    "name": "ipython",
    "version": 3
   },
   "file_extension": ".py",
   "mimetype": "text/x-python",
   "name": "python",
   "nbconvert_exporter": "python",
   "pygments_lexer": "ipython3",
   "version": "3.8.3"
  },
  "varInspector": {
   "cols": {
    "lenName": 16,
    "lenType": 16,
    "lenVar": 40
   },
   "kernels_config": {
    "python": {
     "delete_cmd_postfix": "",
     "delete_cmd_prefix": "del ",
     "library": "var_list.py",
     "varRefreshCmd": "print(var_dic_list())"
    },
    "r": {
     "delete_cmd_postfix": ") ",
     "delete_cmd_prefix": "rm(",
     "library": "var_list.r",
     "varRefreshCmd": "cat(var_dic_list()) "
    }
   },
   "types_to_exclude": [
    "module",
    "function",
    "builtin_function_or_method",
    "instance",
    "_Feature"
   ],
   "window_display": false
  }
 },
 "nbformat": 4,
 "nbformat_minor": 4
}
