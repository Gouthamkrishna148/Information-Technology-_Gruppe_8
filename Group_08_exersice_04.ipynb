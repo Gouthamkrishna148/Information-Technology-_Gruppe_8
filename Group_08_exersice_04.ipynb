{
 "cells": [
  {
   "cell_type": "markdown",
   "metadata": {},
   "source": [
    "# Exercice 1: \n",
    "write a function that takes a filename and then all the urls in the file \"urls.txt\" line by line. Remove the `http://www.` parts of each url and write the urls without `http://www.`part in the file \"domains.txt\". The function returns nothing.\n",
    "\n",
    "Examples:\n",
    "\n",
    "`http://www.rakuten.co.jp` should be `rakuten.co.jp`\n",
    "\n",
    "`http://www.craigslist.org` should be `craigslist.org`\n",
    "\n",
    "`http://www.amazon.de` should be `amazon.de`\n"
   ]
  },
  {
   "cell_type": "code",
   "execution_count": 3,
   "metadata": {},
   "outputs": [],
   "source": [
    "# your code here \n",
    "\n",
    "def remove_url(file_1,file_2):\n",
    "    \n",
    "    a=[]\n",
    "    \n",
    "    with open(file_1,\"r\") as file:\n",
    "        for line in file:\n",
    "            a.append(line[11:])\n",
    "           \n",
    "    \n",
    "    with open(file_2, \"w\") as file:\n",
    "        for url in a:\n",
    "            file.write(url)\n",
    "\n",
    "        \n",
    "\n"
   ]
  },
  {
   "cell_type": "code",
   "execution_count": 4,
   "metadata": {},
   "outputs": [
    {
     "ename": "FileNotFoundError",
     "evalue": "[Errno 2] No such file or directory: 'urls.txt'",
     "output_type": "error",
     "traceback": [
      "\u001b[1;31m---------------------------------------------------------------------------\u001b[0m",
      "\u001b[1;31mFileNotFoundError\u001b[0m                         Traceback (most recent call last)",
      "\u001b[1;32m<ipython-input-4-e7d99c124f40>\u001b[0m in \u001b[0;36m<module>\u001b[1;34m\u001b[0m\n\u001b[1;32m----> 1\u001b[1;33m \u001b[0mchange_file\u001b[0m\u001b[1;33m(\u001b[0m\u001b[1;34m\"urls.txt\"\u001b[0m\u001b[1;33m,\u001b[0m\u001b[1;34m\"domains.txt\"\u001b[0m\u001b[1;33m)\u001b[0m\u001b[1;33m\u001b[0m\u001b[1;33m\u001b[0m\u001b[0m\n\u001b[0m",
      "\u001b[1;32m<ipython-input-3-d869958b84b2>\u001b[0m in \u001b[0;36mchange_file\u001b[1;34m(file_1, file_2)\u001b[0m\n\u001b[0;32m      5\u001b[0m     \u001b[0ma\u001b[0m\u001b[1;33m=\u001b[0m\u001b[1;33m[\u001b[0m\u001b[1;33m]\u001b[0m\u001b[1;33m\u001b[0m\u001b[1;33m\u001b[0m\u001b[0m\n\u001b[0;32m      6\u001b[0m \u001b[1;33m\u001b[0m\u001b[0m\n\u001b[1;32m----> 7\u001b[1;33m     \u001b[1;32mwith\u001b[0m \u001b[0mopen\u001b[0m\u001b[1;33m(\u001b[0m\u001b[0mfile_1\u001b[0m\u001b[1;33m,\u001b[0m\u001b[1;34m\"r\"\u001b[0m\u001b[1;33m)\u001b[0m \u001b[1;32mas\u001b[0m \u001b[0mfile\u001b[0m\u001b[1;33m:\u001b[0m\u001b[1;33m\u001b[0m\u001b[1;33m\u001b[0m\u001b[0m\n\u001b[0m\u001b[0;32m      8\u001b[0m         \u001b[1;32mfor\u001b[0m \u001b[0mline\u001b[0m \u001b[1;32min\u001b[0m \u001b[0mfile\u001b[0m\u001b[1;33m:\u001b[0m\u001b[1;33m\u001b[0m\u001b[1;33m\u001b[0m\u001b[0m\n\u001b[0;32m      9\u001b[0m             \u001b[0ma\u001b[0m\u001b[1;33m.\u001b[0m\u001b[0mappend\u001b[0m\u001b[1;33m(\u001b[0m\u001b[0mline\u001b[0m\u001b[1;33m[\u001b[0m\u001b[1;36m11\u001b[0m\u001b[1;33m:\u001b[0m\u001b[1;33m]\u001b[0m\u001b[1;33m)\u001b[0m\u001b[1;33m\u001b[0m\u001b[1;33m\u001b[0m\u001b[0m\n",
      "\u001b[1;31mFileNotFoundError\u001b[0m: [Errno 2] No such file or directory: 'urls.txt'"
     ]
    }
   ],
   "source": [
    "remove_url(\"urls.txt\",\"domains.txt\")"
   ]
  },
  {
   "cell_type": "markdown",
   "metadata": {},
   "source": [
    "# Exercice 2: (Hint: Use lists inside a list to write a two dimensional array. Also use a for loop inside a for loop could be helpful) \n",
    "Without using exernal library, create a function which print a matrix `n x n`with `1`on the diagonal, otherwise `0`. The function should take an argument `n`and then print the matrix. \n",
    "\n",
    "Example: \n",
    ". for `n = 3`\n",
    "\n",
    "```python\n",
    "1  0  0\n",
    "0  1  0\n",
    "0  0  1\n",
    "```\n",
    "\n",
    ". for `n = 4`\n",
    "\n",
    "```python\n",
    "1  0  0  0\n",
    "0  1  0  0 \n",
    "0  0  1  0 \n",
    "0  0  0  1\n",
    "```\n",
    "\n",
    "etc...\n",
    "\n"
   ]
  },
  {
   "cell_type": "code",
   "execution_count": 1,
   "metadata": {},
   "outputs": [
    {
     "name": "stdout",
     "output_type": "stream",
     "text": [
      "[1, 0, 0, 0, 0]\n",
      "[0, 1, 0, 0, 0]\n",
      "[0, 0, 1, 0, 0]\n",
      "[0, 0, 0, 1, 0]\n",
      "[0, 0, 0, 0, 1]\n"
     ]
    }
   ],
   "source": [
    "# your code here \n",
    "def matrix(n):\n",
    "    matrix=[]\n",
    "    for i in range(n):\n",
    "        element=[]\n",
    "        for j in range(n):\n",
    "            if i==j:\n",
    "                element.append(1)\n",
    "            else:\n",
    "                element.append(0)\n",
    "        matrix.append(element)\n",
    "        \n",
    "    for line in matrix:\n",
    "        print(line)\n",
    "        \n",
    "matrix(5)\n",
    "        \n"
   ]
  },
  {
   "cell_type": "markdown",
   "metadata": {},
   "source": [
    "# Exercice 3: \n",
    "Without using exernal library, compute the sum of two matrix. The sum of two matrix can be done as shown in the [WIKI-PAGE](https://en.wikipedia.org/wiki/Matrix_addition) . The function should be able to sum both `n x n` matrix and `n x m` matrix. \n",
    "Write a function witch takes two matrix and return the (sum) matrix. \n",
    "\n",
    "You can use the function from exercice 2, to print the result :) "
   ]
  },
  {
   "cell_type": "code",
   "execution_count": 10,
   "metadata": {},
   "outputs": [],
   "source": [
    "# your code here \n",
    "def sum_matrix(a:list,b:list):\n",
    "    result=a\n",
    "    for i in range (len(a)):\n",
    "        for j in range(len(a[0])):\n",
    "            result[i][j]=a[i][j] + b[i][j]\n",
    "        \n",
    "    for r in result:\n",
    "        print(r)\n",
    "        \n",
    "def direct_sum(c,d):\n",
    "    result=[]\n",
    "    for i in range(len(c)+len(d)):\n",
    "        line=[]\n",
    "        for j in range(len(c[0])+len(d[0])):\n",
    "            if i<len(c):\n",
    "                if j<len(c[0]):\n",
    "                    line.append(c[i][j])\n",
    "                else:\n",
    "                    line.append(0)\n",
    "            else:\n",
    "                if j<len(c[0]):\n",
    "                    line.append(0)\n",
    "                else:\n",
    "                    line.append(d[i-len(c)][j-len(c[0])])\n",
    "        result.append(line)\n",
    "        \n",
    "    for r in result:\n",
    "        print(r)"
   ]
  },
  {
   "cell_type": "code",
   "execution_count": 11,
   "metadata": {},
   "outputs": [
    {
     "name": "stdout",
     "output_type": "stream",
     "text": [
      "[1, 3]\n",
      "[8, 5]\n",
      "[3, 3]\n"
     ]
    }
   ],
   "source": [
    "matrix_1 = [[1,3],[1,0],[1,2]]\n",
    "matrix_2 = [[0,0],[7,5],[2,1]]\n",
    "sum_matrix(matrix_1,matrix_2)"
   ]
  },
  {
   "cell_type": "code",
   "execution_count": 14,
   "metadata": {},
   "outputs": [
    {
     "name": "stdout",
     "output_type": "stream",
     "text": [
      "[1, 3, 2, 0, 0]\n",
      "[2, 3, 1, 0, 0]\n",
      "[0, 0, 0, 1, 6]\n",
      "[0, 0, 0, 0, 1]\n"
     ]
    }
   ],
   "source": [
    "# test your functions \n",
    "\n",
    "matrix_1 = [[1,3],[1,0],[1,2]]\n",
    "matrix_2 = [[0,0],[7,5],[2,1]]\n",
    "\n",
    "matrix_3 = [[1,3,2],[2,3,1]]\n",
    "matrix_4 = [[1,6],[0,1]]\n",
    "\n",
    "#sum_entrywise = sum_matrix(matrix_1, matrix_2)\n",
    "#print(format_print(sum_entrywise))\n",
    "\n",
    "sum_direct_sum = direct_sum(matrix_3, matrix_4)\n",
    "#print(format_print(sum_direct_sum))"
   ]
  },
  {
   "cell_type": "code",
   "execution_count": null,
   "metadata": {},
   "outputs": [],
   "source": []
  }
 ],
 "metadata": {
  "kernelspec": {
   "display_name": "Python 3",
   "language": "python",
   "name": "python3"
  },
  "language_info": {
   "codemirror_mode": {
    "name": "ipython",
    "version": 3
   },
   "file_extension": ".py",
   "mimetype": "text/x-python",
   "name": "python",
   "nbconvert_exporter": "python",
   "pygments_lexer": "ipython3",
   "version": "3.8.3"
  }
 },
 "nbformat": 4,
 "nbformat_minor": 4
}
