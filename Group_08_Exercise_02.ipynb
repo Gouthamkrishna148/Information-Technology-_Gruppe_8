{
 "cells": [
  {
   "cell_type": "markdown",
   "metadata": {},
   "source": [
    "# Exercice 02:\n",
    "\n",
    "The following exercice requires some understanding in the following subjects: \n",
    "- understand conditions in python\n",
    "- write some loops\n",
    "\n",
    "\n"
   ]
  },
  {
   "cell_type": "markdown",
   "metadata": {},
   "source": [
    "## Loop:\n",
    "\n",
    "### 1. **Use `for`, `.split()`, and `if` to create a Statement that will print out words that start with 's':**\n",
    "\n"
   ]
  },
  {
   "cell_type": "code",
   "execution_count": 1,
   "metadata": {},
   "outputs": [
    {
     "name": "stdout",
     "output_type": "stream",
     "text": [
      "start\n",
      "s\n",
      "simple\n",
      "sentence\n"
     ]
    }
   ],
   "source": [
    "# it should print: \"start\", \"s\", \"simple\", \"sentence\"\n",
    "\n",
    "# change the string in list by a space separation by default with split \n",
    "\n",
    "# print all the words starting with a \"s\"\n",
    "#sentence = input(\"please type a sample sentence:\")\n",
    "\n",
    "sentence =  \"start anything with s may be a simple sentence\"\n",
    "\n",
    "for word in sentence.split():\n",
    "    if word[0] == 's':\n",
    "        print(word)       "
   ]
  },
  {
   "cell_type": "markdown",
   "metadata": {},
   "source": [
    "### 2. Given a list l_list, delete all the `0` values in the list `l_list`. (hint: see the [methods for list in the python documentation](https://docs.python.org/3/tutorial/datastructures.html))"
   ]
  },
  {
   "cell_type": "code",
   "execution_count": 2,
   "metadata": {},
   "outputs": [
    {
     "name": "stdout",
     "output_type": "stream",
     "text": [
      "[2, 5, 8, 5, 2, 3, 9, 1, 5, 3, 11, 13, 5]\n"
     ]
    }
   ],
   "source": [
    "# here is the list l_list \n",
    "l_list = [ 2 , 5 , 8 , 0 , 0 , 0 , 0 , 0 , 5 , 2 , 3 , 9 , 1 , 5 , 3 , 0, 11, 13, 0, 5]\n",
    "# WARNING, you cannot delete an element in a list during a loop, why? Because of shrinking list\n",
    "# the best way is to create another list and save all the wanted value in this list. \n",
    "# let's create another empty list to save the value without zero\n",
    "\n",
    "\n",
    "new_list = []\n",
    "\n",
    "for i in l_list:\n",
    "     if i != 0:\n",
    "            new_list.append(i)\n",
    "\n",
    "print (new_list)\n",
    "\n",
    "\n"
   ]
  },
  {
   "cell_type": "markdown",
   "metadata": {},
   "source": [
    "### 3. We consider the following dictionary (students) whose keys are the names of the students and the values of the keys are the overall averages obtained by passing the final exam.\n",
    "\n",
    "Write a Python program that partitions this dictionary into two sub-dictionaries:\n",
    "\n",
    "1. admittedStudents whose keys are the admitted students and the values of the keys are the averages obtained (average greater than or equal to 10 ).\n",
    "2. nonAdmittedStudent whose keys are the non-admitted students and whose key values are the averages obtained (average less than or equal to 10).\n",
    "\n"
   ]
  },
  {
   "cell_type": "code",
   "execution_count": 3,
   "metadata": {},
   "outputs": [
    {
     "name": "stdout",
     "output_type": "stream",
     "text": [
      "Admitted Students:\n",
      " {'student_1': 13, 'student_2': 17, 'student_4': 15, 'student_6': 14, 'student_7': 16, 'student_8': 12, 'student_9': 13, 'student_10': 15, 'student_11': 14, 'student_13': 10, 'student_14': 12, 'student_15': 13, 'student_17': 12, 'student_18': 15, 'student_20': 17}\n",
      "\n",
      "Non Admitted Students:\n",
      " {'student_3': 9, 'student_5': 8, 'student_112': 9, 'student_13': 10, 'student_16': 7, 'student_19': 9}\n"
     ]
    }
   ],
   "source": [
    "students = {\"student_1\" : 13 , \"student_2\" : 17 , \"student_3\" : 9 , \"student_4\" : 15 , \n",
    "\t\t\t \"student_5\" : 8 , \"student_6\" : 14 , \"student_7\" : 16 , \"student_8\" : 12 , \n",
    "\t\t\t \"student_9\" : 13 , \"student_10\" : 15 , \"student_11\" : 14 , \"student_112\" : 9 , \n",
    "\t\t\t \"student_13\" : 10 , \"student_14\" : 12 , \"student_15\" : 13 , \"student_16\" : 7 ,\n",
    "\t\t\t \"student_17\" : 12 , \"student_18\" : 15 , \"student_19\" : 9 , \"student_20\" : 17}\n",
    "\n",
    "# your code here \n",
    "# from what i understend , The average greater than or equal to 10 should be in admittedStudents dictionary. \n",
    "# The average less than or equal to 10 should be in nonAdmittedStudent dictionary. This leaves student_13 in both dictionaries \n",
    "# The solution is as follows\n",
    "\n",
    "admittedStudents  = {}\n",
    "nonAdmittedStudent = {}\n",
    "\n",
    "for k, v in students.items():\n",
    "    if ((v >= 10) and (v <= 10)):\n",
    "        admittedStudents[k] = v\n",
    "        nonAdmittedStudent[k] = v\n",
    "    elif (v <= 10):\n",
    "        nonAdmittedStudent[k] = v\n",
    "    elif (v >= 10):\n",
    "         admittedStudents[k] = v\n",
    "\n",
    "        \n",
    "print(\"Admitted Students:\\n\", admittedStudents )\n",
    "print(\"\\nNon Admitted Students:\\n\", nonAdmittedStudent )\n",
    "\n"
   ]
  },
  {
   "cell_type": "markdown",
   "metadata": {},
   "source": [
    "### 4. Use `for` loop to print an isosceles triangle with the character `*` . The user should be asked for a number and the the program print the triangle with the `*`character. "
   ]
  },
  {
   "cell_type": "code",
   "execution_count": 4,
   "metadata": {},
   "outputs": [
    {
     "name": "stdin",
     "output_type": "stream",
     "text": [
      "please enter the number of lines you want print\n",
      " 5\n"
     ]
    },
    {
     "name": "stdout",
     "output_type": "stream",
     "text": [
      "          *\n",
      "         ***\n",
      "        *****\n",
      "       *******\n",
      "      *********\n"
     ]
    }
   ],
   "source": [
    "# if for example, the user type 3, the program should print this: \n",
    "#         *\n",
    "#        ***\n",
    "#       *****\n",
    "#\n",
    "#\n",
    "#  if the user typed 5, the program should print this: \n",
    "#         *\n",
    "#        ***\n",
    "#       *****\n",
    "#      *******\n",
    "#     *********\n",
    "# and so on... \n",
    "\n",
    "space = 2 * int(input(\"please enter the number of lines you want print\\n\"))\n",
    "\n",
    "for star in range(1, space , 2):\n",
    "    print(\" \" * space + star * \"*\")\n",
    "    space = space-1\n",
    "    \n",
    "    # The output does not seem to be a perfect isosceles triangle optically. But, when the same code is executed in spyder environment \n",
    "    # But, when the same code is executed in spyder environment. The output renders a optically good isosceles triangle.\n"
   ]
  },
  {
   "cell_type": "markdown",
   "metadata": {},
   "source": [
    "### 5. A wolf in sheep's clothing\n",
    "Wolves have been reintroduced to Great Britain. You are a sheep farmer, and are now plagued by wolves which pretend to be sheep. Fortunately, you are good at spotting them.\n",
    "\n",
    "Warn the sheep in front of the wolf that it is about to be eaten. Remember that you are standing at the front of the queue which is at the end of the array:\n",
    "\n",
    "```python \n",
    "[sheep, sheep, sheep, sheep, sheep, wolf, sheep, sheep]      (YOU ARE HERE AT THE FRONT OF THE QUEUE)\n",
    "   7      6      5      4      3            2      1\n",
    "```\n",
    "\n",
    "If the wolf is the closest animal to you, return \"Pls go away and stop eating my sheep\". Otherwise, return \"Oi! Sheep number N! You are about to be eaten by a wolf!\" where N is the sheep's position in the queue.\n",
    "\n",
    "Note: there will always be exactly one wolf in the array.\n",
    "\n",
    "Examples: \n",
    "\n",
    "```python \n",
    "sheep_queue_0 = [\"sheep\", \"sheep\", \"sheep\", \"wolf\", \"sheep\"]\n",
    "# should print \n",
    "-> 'Oi! Sheep number 1! You are about to be eaten by a wolf!'\n",
    "\n",
    "sheep_queue_1 = ['sheep', 'sheep', 'wolf']\n",
    "# should print\n",
    "-> 'Pls go away and stop eating my sheep'\n",
    "```\n"
   ]
  },
  {
   "cell_type": "code",
   "execution_count": 7,
   "metadata": {},
   "outputs": [
    {
     "name": "stdout",
     "output_type": "stream",
     "text": [
      "\n",
      "Spotting the Wolf in Sheep Queue 0:\n",
      "Oi! Sheep number 1! You are about to be eaten by a wolf!\n",
      "\n",
      "Spotting the Wolf in Sheep Queue 1:\n",
      "Pls go away and stop eating my sheep\n",
      "\n",
      "Spotting the Wolf in Sheep Queue 2:\n",
      "Oi! Sheep number 6! You are about to be eaten by a wolf!\n"
     ]
    }
   ],
   "source": [
    "sheep_queue_0 = [\"sheep\", \"sheep\", \"sheep\", \"wolf\", \"sheep\"]  # test your code with sheep_queue_0 and sheep_queue_1 also\n",
    "# your code here \n",
    "print(\"\\nSpotting the Wolf in Sheep Queue 0:\")\n",
    "if sheep_queue_0[-1] == 'wolf':\n",
    "    print('Pls go away and stop eating my sheep')\n",
    "else:\n",
    "    for i , j in enumerate(sheep_queue_0):\n",
    "        k = abs(len(sheep_queue_0) - i)\n",
    "        if j == 'wolf':\n",
    "            print(f'Oi! Sheep number {k-1}! You are about to be eaten by a wolf!')\n",
    " ##################################################################       \n",
    "sheep_queue_1 = ['sheep', 'sheep', 'wolf']\n",
    "print(\"\\nSpotting the Wolf in Sheep Queue 1:\")\n",
    "if sheep_queue_1[-1] == 'wolf':\n",
    "    print('Pls go away and stop eating my sheep')\n",
    "else:\n",
    "    for i , j in enumerate(sheep_queue_1):\n",
    "        k = abs(len(sheep_queue_1) - i)\n",
    "        if j == 'wolf':\n",
    "            print(f'Oi! Sheep number {k-1}! You are about to be eaten by a wolf!')\n",
    "            \n",
    "####################################################################            \n",
    "sheep_queue_2 = ['wolf', 'sheep', 'sheep', 'sheep', 'sheep', 'sheep', 'sheep']\n",
    "print(\"\\nSpotting the Wolf in Sheep Queue 2:\")\n",
    "\n",
    "\n",
    "if sheep_queue_2[-1] == 'wolf':\n",
    "    print('Pls go away and stop eating my sheep')\n",
    "else:\n",
    "    for i , j in enumerate(sheep_queue_2):\n",
    "        k = abs(len(sheep_queue_2) - i)\n",
    "        if j == 'wolf':\n",
    "            print(f'Oi! Sheep number {k-1}! You are about to be eaten by a wolf!')"
   ]
  },
  {
   "cell_type": "markdown",
   "metadata": {},
   "source": [
    "### 6. time(s)\n",
    "\n",
    "You receive a string, and you need to return a __string__ that shows how many times each letter shows up in the string by using the sign plus \"+\"\n",
    "\n",
    "For example:\n",
    "\n",
    "\"Chicago\"  -->  \"c:++,h:+,i:+,a:+,g:+,o:+\"\n",
    "As you can see, the letter c is shown only once, but with 2 pluses.\n",
    "\n",
    "The return string should include only the letters (not the dashes, spaces, apostrophes, etc). There should be no spaces in the output, and the different letters are separated by a comma (,) as seen in the example above.\n",
    "\n",
    "Note that the return string must list the letters in order of their first appearence in the original string.\n",
    "\n",
    "More examples:\n",
    "\n",
    "\"Bangkok\"    -->  \"b:+,a:+,n:+,g:+,k:++,o:+\"\n",
    "\n",
    "\"Las Vegas\"  -->  \"l:+,a:++,s:++,v:+,e:+,g:+\"\n",
    "\n"
   ]
  },
  {
   "cell_type": "code",
   "execution_count": 6,
   "metadata": {},
   "outputs": [
    {
     "name": "stdin",
     "output_type": "stream",
     "text": [
      "Please type a String:\n",
      " chicago\n"
     ]
    },
    {
     "name": "stdout",
     "output_type": "stream",
     "text": [
      "c:++,h:+,i:+,a:+,g:+,o:+\n"
     ]
    }
   ],
   "source": [
    "# your code here. Test it with the 3 words above\n",
    "s = str(input(\"Please type a String:\\n\"))\n",
    "st = \"\".join(s.lower().split())\n",
    "unique = {}\n",
    "result_str = \"\"\n",
    "\n",
    "for i in range(len(st)):\n",
    "    unique[st[i]] = st.count(st[i])\n",
    "    \n",
    "for k,v in unique.items():\n",
    "    result_str = result_str + k + ':' + v * '+' + ','\n",
    "    \n",
    "result_str = result_str[:-1]\n",
    "\n",
    "\n",
    "print(result_str)\n",
    "\n",
    "\n",
    "\n"
   ]
  },
  {
   "cell_type": "code",
   "execution_count": 8,
   "metadata": {},
   "outputs": [
    {
     "name": "stdin",
     "output_type": "stream",
     "text": [
      "Please type a String:\n",
      " Bangkok\n"
     ]
    },
    {
     "name": "stdout",
     "output_type": "stream",
     "text": [
      "b:+,a:+,n:+,g:+,k:++,o:+\n"
     ]
    }
   ],
   "source": [
    "s = str(input(\"Please type a String:\\n\"))\n",
    "st = \"\".join(s.lower().split())\n",
    "unique = {}\n",
    "result_str = \"\"\n",
    "\n",
    "for i in range(len(st)):\n",
    "    unique[st[i]] = st.count(st[i])\n",
    "    \n",
    "for k,v in unique.items():\n",
    "    result_str = result_str + k + ':' + v * '+' + ','\n",
    "    \n",
    "result_str = result_str[:-1]\n",
    "\n",
    "\n",
    "print(result_str)\n",
    "\n",
    "\n"
   ]
  },
  {
   "cell_type": "code",
   "execution_count": 9,
   "metadata": {},
   "outputs": [
    {
     "name": "stdin",
     "output_type": "stream",
     "text": [
      "Please type a String:\n",
      " Las Vegas\n"
     ]
    },
    {
     "name": "stdout",
     "output_type": "stream",
     "text": [
      "l:+,a:++,s:++,v:+,e:+,g:+\n"
     ]
    }
   ],
   "source": [
    "s = str(input(\"Please type a String:\\n\"))\n",
    "st = \"\".join(s.lower().split())\n",
    "unique = {}\n",
    "result_str = \"\"\n",
    "\n",
    "for i in range(len(st)):\n",
    "    unique[st[i]] = st.count(st[i])\n",
    "    \n",
    "for k,v in unique.items():\n",
    "    result_str = result_str + k + ':' + v * '+' + ','\n",
    "    \n",
    "result_str = result_str[:-1]\n",
    "\n",
    "\n",
    "print(result_str)\n"
   ]
  }
 ],
 "metadata": {
  "kernelspec": {
   "display_name": "Python 3",
   "language": "python",
   "name": "python3"
  },
  "language_info": {
   "codemirror_mode": {
    "name": "ipython",
    "version": 3
   },
   "file_extension": ".py",
   "mimetype": "text/x-python",
   "name": "python",
   "nbconvert_exporter": "python",
   "pygments_lexer": "ipython3",
   "version": "3.8.3"
  },
  "varInspector": {
   "cols": {
    "lenName": 16,
    "lenType": 16,
    "lenVar": 40
   },
   "kernels_config": {
    "python": {
     "delete_cmd_postfix": "",
     "delete_cmd_prefix": "del ",
     "library": "var_list.py",
     "varRefreshCmd": "print(var_dic_list())"
    },
    "r": {
     "delete_cmd_postfix": ") ",
     "delete_cmd_prefix": "rm(",
     "library": "var_list.r",
     "varRefreshCmd": "cat(var_dic_list()) "
    }
   },
   "oldHeight": 257.667,
   "position": {
    "height": "279.659px",
    "left": "833.994px",
    "right": "20px",
    "top": "88px",
    "width": "325px"
   },
   "types_to_exclude": [
    "module",
    "function",
    "builtin_function_or_method",
    "instance",
    "_Feature"
   ],
   "varInspector_section_display": "block",
   "window_display": false
  }
 },
 "nbformat": 4,
 "nbformat_minor": 4
}
