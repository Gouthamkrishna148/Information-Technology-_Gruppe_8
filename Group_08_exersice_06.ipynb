{
 "cells": [
  {
   "cell_type": "markdown",
   "metadata": {},
   "source": [
    "# Help Function for tests\n",
    "\n"
   ]
  },
  {
   "cell_type": "code",
   "execution_count": null,
   "metadata": {},
   "outputs": [],
   "source": [
    "def assert_equals(a,b):\n",
    "    return a == b"
   ]
  },
  {
   "cell_type": "markdown",
   "metadata": {},
   "source": [
    "# Exercice 1\n",
    "In John's car the GPS records every s seconds the distance travelled from an origin (distances are measured in an arbitrary but consistent unit). For example, below is part of a record with s = 15:\n",
    "\n",
    "`\n",
    "x = [0.0, 0.19, 0.5, 0.75, 1.0, 1.25, 1.5, 1.75, 2.0, 2.25]\n",
    "`\n",
    "\n",
    "The sections are:\n",
    "\n",
    "`\n",
    "0.0-0.19, 0.19-0.5, 0.5-0.75, 0.75-1.0, 1.0-1.25, 1.25-1.50, 1.5-1.75, 1.75-2.0, 2.0-2.25\n",
    "`\n",
    "\n",
    "We can calculate John's average hourly speed on every section and we get:\n",
    "\n",
    "`\n",
    "[45.6, 74.4, 60.0, 60.0, 60.0, 60.0, 60.0, 60.0, 60.0]\n",
    "`\n",
    "\n",
    "Given s and x the task is to return as an integer the *floor* of the maximum average speed per hour obtained on the sections of x. If x length is less than or equal to 1 return 0 since the car didn't move.\n",
    "\n",
    "Example:\n",
    "with the above data your function gps(s, x)should return 74\n",
    "\n",
    "Note\n",
    "With floats it can happen that results depends on the operations order. To calculate hourly speed you can use:\n",
    "\n",
    "`\n",
    "(3600 * delta_distance) / s.\n",
    "`\n"
   ]
  },
  {
   "cell_type": "code",
   "execution_count": null,
   "metadata": {},
   "outputs": [],
   "source": [
    "# your code here \n",
    "def gps(s, x):\n",
    "    new =[]\n",
    "    if len(x) <=1:\n",
    "        return 0\n",
    "    for i in range(0,(len(x)-1)):\n",
    "        if i < len(x):\n",
    "            delta= x[i+1]- x[i]\n",
    "            result=int(3600*delta)/s\n",
    "            new.append(result)\n",
    "            i = i+1\n",
    "    r=int(max(new))\n",
    "        \n",
    "    return r\n",
    "        \n"
   ]
  },
  {
   "cell_type": "code",
   "execution_count": null,
   "metadata": {},
   "outputs": [],
   "source": [
    "x = [0.0, 0.19, 0.5, 0.75, 1.0, 1.25, 1.5, 1.75, 2.0, 2.25]\n",
    "gps(15,x)\n"
   ]
  },
  {
   "cell_type": "code",
   "execution_count": null,
   "metadata": {},
   "outputs": [],
   "source": [
    "# Basic Tests\n",
    "x = [0.0, 0.23, 0.46, 0.69, 0.92, 1.15, 1.38, 1.61]\n",
    "s = 20\n",
    "u = 41\n",
    "print(assert_equals(gps(s,x),u))\n",
    "#############################################################\n",
    "x = [0.0, 0.11, 0.22, 0.33, 0.44, 0.65, 1.08, 1.26, 1.68, 1.89, 2.1, 2.31, 2.52, 3.25]\n",
    "s = 12\n",
    "u = 219\n",
    "print(assert_equals(gps(s, x), u))\n",
    "#############################################################\n",
    "x = [0.0, 0.18, 0.36, 0.54, 0.72, 1.05, 1.26, 1.47, 1.92, 2.16, 2.4, 2.64, 2.88, 3.12, 3.36, 3.6, 3.84]\n",
    "s = 20\n",
    "u = 80\n",
    "print(assert_equals(gps(s, x), u))\n",
    "#############################################################\n",
    "x = [0.0, 0.02, 0.36, 0.54, 0.72, 0.9, 1.08, 1.26, 1.44, 1.62, 1.8]\n",
    "s = 17\n",
    "u = 72\n",
    "print(assert_equals(gps(s, x), u))\n",
    "#############################################################\n",
    "x = [0.0]\n",
    "s = 19\n",
    "u = 0\n",
    "print(assert_equals(gps(s, x), u))\n",
    "#############################################################\n",
    "x = []\n",
    "s = 19\n",
    "u = 0\n",
    "print(assert_equals(gps(s, x), u))\n"
   ]
  },
  {
   "cell_type": "markdown",
   "metadata": {},
   "source": [
    "# Exercice 2\n",
    "In mathematics, the factorial of a non-negative integer n, denoted by n!, is the product of all positive integers less than or equal to n. \n",
    "For example: \n",
    "\n",
    "`\n",
    "5! = 5 * 4 * 3 * 2 * 1 = 120 \n",
    "`\n",
    "\n",
    "By convention the value of `0! is 1`.\n",
    "Write a function to calculate factorial for a given input. If input is below 0 or above 12 raise an exception of type ValueError (Python).\n",
    "\n"
   ]
  },
  {
   "cell_type": "code",
   "execution_count": null,
   "metadata": {},
   "outputs": [],
   "source": [
    "# your code here \n",
    "def factorial(nb):\n",
    "    if nb == 0:\n",
    "        return (1)\n",
    "    if nb>= 1:\n",
    "        return nb * (factorial(nb-1))\n",
    "        \n"
   ]
  },
  {
   "cell_type": "code",
   "execution_count": null,
   "metadata": {},
   "outputs": [],
   "source": [
    "print(assert_equals(factorial(0),1))\n",
    "print(assert_equals(factorial(1),1))\n",
    "print(assert_equals(factorial(2),2))\n",
    "print(assert_equals(factorial(3),6))\n",
    "print(assert_equals(factorial(4),24))\n",
    "print(assert_equals(factorial(6),720))\n"
   ]
  },
  {
   "cell_type": "markdown",
   "metadata": {},
   "source": [
    "## Exercice 3\n",
    "Try to write the exercice 6.1 again but without using a `for` or a `while` loop. Just a [**recursion**](python). "
   ]
  },
  {
   "cell_type": "code",
   "execution_count": null,
   "metadata": {},
   "outputs": [],
   "source": [
    "# your code here \n",
    "def factorial(nb):\n",
    "    factorial = 1\n",
    "    if nb == 0:\n",
    "        return factorial\n",
    "    if int(nb) >= 1:\n",
    "        for i in range (1,int(nb)+1):\n",
    "            factorial = factorial * i\n",
    "        return factorial"
   ]
  },
  {
   "cell_type": "code",
   "execution_count": null,
   "metadata": {},
   "outputs": [],
   "source": [
    "print(assert_equals(factorial(0),1))\n",
    "print(assert_equals(factorial(1),1))\n",
    "print(assert_equals(factorial(2),2))\n",
    "print(assert_equals(factorial(3),6))\n",
    "print(assert_equals(factorial(4),24))\n",
    "print(assert_equals(factorial(6),720))"
   ]
  },
  {
   "cell_type": "markdown",
   "metadata": {},
   "source": [
    "# Exercice 4"
   ]
  },
  {
   "cell_type": "markdown",
   "metadata": {},
   "source": [
    "\n",
    "\n",
    "Write a recursiv funciton called `step_sum`, die a function that reduces an array of integer numbers by adding adjacent elements until only a single element is left. The reduced list should be output step by step.\n",
    "Example: For the list ` l = [2, 4, 1, 3, 7] ` the following output is to be generated:\n",
    "\n",
    "`\n",
    "\n",
    "43\n",
    "20 23\n",
    "11 9 14\n",
    "6 5 4 10\n",
    "2 4 1 3 7\n",
    "`\n",
    "\n",
    "Line 5 is the array. In line 4, 2 + 4 = 6, 4 + 1 = 5, 1 + 3 = 4 and 3 + 7 = 10 are computed und displayd, etc. \n",
    "\n"
   ]
  },
  {
   "cell_type": "code",
   "execution_count": 1,
   "metadata": {},
   "outputs": [
    {
     "name": "stdout",
     "output_type": "stream",
     "text": [
      "[6, 5, 4, 10]\n",
      "[11, 9, 14]\n",
      "[20, 23]\n",
      "[43]\n"
     ]
    }
   ],
   "source": [
    "def step_sum(l):\n",
    "    total =0\n",
    "    newlist=[]\n",
    "    for i in range (0,(len(l)-1)):\n",
    "        total= l[i] + l[i+1]\n",
    "        newlist.append(total)\n",
    "        i = i+1\n",
    "    print(newlist)\n",
    "    if len(newlist)>1:\n",
    "        step_sum(newlist)\n",
    "    \n",
    "    \n",
    "\n",
    "list1=[2, 4, 1, 3, 7]\n",
    "step_sum(list1)"
   ]
  },
  {
   "cell_type": "code",
   "execution_count": null,
   "metadata": {},
   "outputs": [],
   "source": []
  }
 ],
 "metadata": {
  "kernelspec": {
   "display_name": "Python 3",
   "language": "python",
   "name": "python3"
  },
  "language_info": {
   "codemirror_mode": {
    "name": "ipython",
    "version": 3
   },
   "file_extension": ".py",
   "mimetype": "text/x-python",
   "name": "python",
   "nbconvert_exporter": "python",
   "pygments_lexer": "ipython3",
   "version": "3.8.3"
  }
 },
 "nbformat": 4,
 "nbformat_minor": 4
}
