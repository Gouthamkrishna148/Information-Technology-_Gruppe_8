{
 "cells": [
  {
   "cell_type": "markdown",
   "metadata": {},
   "source": [
    "# Exercice 01:\n",
    "\n",
    "The following exercice requires some understanding in the following subjects: \n",
    "- understand the notion of variable and data-types\n",
    "- read the user inputs \n",
    "- understand conditions in python\n",
    "\n"
   ]
  },
  {
   "cell_type": "markdown",
   "metadata": {},
   "source": [
    "## 1. Review: \n",
    "\n",
    "### 1.a. Create two variables `time` and `distance` with the following values \"6.89\" and \"16.7\" . Compute the speed and save it in a variable called `speed` and print then the speed. "
   ]
  },
  {
   "cell_type": "code",
   "execution_count": 6,
   "metadata": {},
   "outputs": [
    {
     "name": "stdout",
     "output_type": "stream",
     "text": [
      "2.423802612481858\n"
     ]
    }
   ],
   "source": [
    "# declare the two variables time and distance\n",
    "# time = 6.89\n",
    "# distance = 16.7\n",
    "time = 6.89\n",
    "distance = 16.7\n",
    "speed = (distance/time)\n",
    "print (speed)\n"
   ]
  },
  {
   "cell_type": "markdown",
   "metadata": {},
   "source": [
    "### 1.b. Create a list called `special_lst` with the following values: [12,8,9,13,11,10]. Compute the average value of all the value of the list with index and save it to a variable called `avg_special_lst` . "
   ]
  },
  {
   "cell_type": "code",
   "execution_count": 14,
   "metadata": {},
   "outputs": [
    {
     "name": "stdout",
     "output_type": "stream",
     "text": [
      "[12, 8, 9, 13, 11, 10]\n",
      "10.5\n"
     ]
    }
   ],
   "source": [
    "# create the list and then compute its average value\n",
    "special_lst = [12,8,9,13,11,10]\n",
    "print (special_lst)\n",
    "avg_special_lst = ((special_lst[0]+special_lst[1]+special_lst[2]+special_lst[3]+special_lst[4]+special_lst[5])/len(special_lst))\n",
    "\n",
    "print (avg_special_lst)\n"
   ]
  },
  {
   "cell_type": "markdown",
   "metadata": {},
   "source": [
    "### 1.c. Given the following variables: \n",
    "```python\n",
    "\n",
    "tiger = 'cat'\n",
    "lion = 'cat'\n",
    "kitty = 'cat'\n",
    "cheetah = 'cat' \n",
    "hyena = 'dog'\n",
    "wolf = 'dog' \n",
    "husky = 'dog'\n",
    "owl = 'bird' \n",
    "pigeon = 'bird'\n",
    "duck = 'bird'\n",
    "```\n",
    "\n",
    "Write the following statements in Boolean and print the answer: \n",
    "\n",
    "```python\n",
    "\n",
    "ex: is_tiger_a_cat = (tiger == 'cat') # true because 'true equals true' is true.\n",
    " \n",
    "tiger_is_not_a_dog \n",
    "\n",
    "a_duck_is_not_a_cat\n",
    "\n",
    "a_piegon_is_neither_a_cat_nor_a_dog  \n",
    "\n",
    "a_wolf_is_a_bird\n",
    "\n",
    "a_duck_is_a_pigeon\n",
    "\n",
    "owl_is_a_duck_or_a_cheetah  \n",
    "\n",
    "husky_is_a_bird_or_duck_is_a_cat\n",
    "\n",
    "owl_is_a_duck_and_hyena_is_a_wolf \n",
    "```\n",
    "\n",
    "\n"
   ]
  },
  {
   "cell_type": "code",
   "execution_count": 19,
   "metadata": {},
   "outputs": [],
   "source": [
    "tiger = 'cat'\n",
    "lion = 'cat'\n",
    "kitty = 'cat'\n",
    "cheetah = 'cat' \n",
    "hyena = 'dog'\n",
    "wolf = 'dog' \n",
    "husky = 'dog'\n",
    "owl = 'bird' \n",
    "pigeon = 'bird'\n",
    "duck = 'bird'\n"
   ]
  },
  {
   "cell_type": "code",
   "execution_count": 21,
   "metadata": {},
   "outputs": [
    {
     "data": {
      "text/plain": [
       "True"
      ]
     },
     "execution_count": 21,
     "metadata": {},
     "output_type": "execute_result"
    }
   ],
   "source": [
    "a = ('tiger' != 'cat')\n",
    "a"
   ]
  },
  {
   "cell_type": "code",
   "execution_count": 22,
   "metadata": {},
   "outputs": [
    {
     "data": {
      "text/plain": [
       "True"
      ]
     },
     "execution_count": 22,
     "metadata": {},
     "output_type": "execute_result"
    }
   ],
   "source": [
    "b = ('duck'!='cat')\n",
    "b"
   ]
  },
  {
   "cell_type": "code",
   "execution_count": 23,
   "metadata": {},
   "outputs": [
    {
     "data": {
      "text/plain": [
       "True"
      ]
     },
     "execution_count": 23,
     "metadata": {},
     "output_type": "execute_result"
    }
   ],
   "source": [
    "c = ('piegon'!= 'cat' and 'piegon'!='dog')\n",
    "c"
   ]
  },
  {
   "cell_type": "code",
   "execution_count": 25,
   "metadata": {},
   "outputs": [
    {
     "data": {
      "text/plain": [
       "False"
      ]
     },
     "execution_count": 25,
     "metadata": {},
     "output_type": "execute_result"
    }
   ],
   "source": [
    "d = ('wolf'=='bird')\n",
    "d"
   ]
  },
  {
   "cell_type": "code",
   "execution_count": 26,
   "metadata": {},
   "outputs": [
    {
     "data": {
      "text/plain": [
       "False"
      ]
     },
     "execution_count": 26,
     "metadata": {},
     "output_type": "execute_result"
    }
   ],
   "source": [
    "e = ('duck'=='piegon')\n",
    "e"
   ]
  },
  {
   "cell_type": "code",
   "execution_count": 27,
   "metadata": {},
   "outputs": [
    {
     "data": {
      "text/plain": [
       "False"
      ]
     },
     "execution_count": 27,
     "metadata": {},
     "output_type": "execute_result"
    }
   ],
   "source": [
    "f = ('owl'=='duck'or 'owl'=='cheetah')\n",
    "f"
   ]
  },
  {
   "cell_type": "code",
   "execution_count": 28,
   "metadata": {},
   "outputs": [
    {
     "data": {
      "text/plain": [
       "False"
      ]
     },
     "execution_count": 28,
     "metadata": {},
     "output_type": "execute_result"
    }
   ],
   "source": [
    "g = ('husky'=='bird' or 'duck'=='cat')\n",
    "g"
   ]
  },
  {
   "cell_type": "code",
   "execution_count": 29,
   "metadata": {},
   "outputs": [
    {
     "data": {
      "text/plain": [
       "False"
      ]
     },
     "execution_count": 29,
     "metadata": {},
     "output_type": "execute_result"
    }
   ],
   "source": [
    "h = ('owl'=='duck' and 'hyena'=='wolf')\n",
    "h"
   ]
  },
  {
   "cell_type": "markdown",
   "metadata": {},
   "source": [
    "## 2. Conditions\n",
    "### 2.a. Ask the user for an input (as Integer), save it to a variable called `user_number` and print if the entered number is an *odd* or an *even* number. \n"
   ]
  },
  {
   "cell_type": "code",
   "execution_count": 42,
   "metadata": {},
   "outputs": [
    {
     "name": "stdin",
     "output_type": "stream",
     "text": [
      "Enter a number:  55\n"
     ]
    },
    {
     "name": "stdout",
     "output_type": "stream",
     "text": [
      "55 it is an odd number\n"
     ]
    }
   ],
   "source": [
    "# Scenario examples: \n",
    "# user inpt: 3\n",
    "# response: 3 it is an odd number \n",
    "# -----------------------------------\n",
    "# user input: 14\n",
    "# response: 14 is an even number\n",
    "# -----------------------------------\n",
    "\n",
    "# get the user_number\n",
    "\n",
    "# check if user_number is even. \n",
    "\n",
    "num = int(input(\"Enter a number: \"))\n",
    "\n",
    "if (num % 2) == 0:\n",
    "    print (format(num) +' it is an even number')\n",
    "else : \n",
    "    print(format(num) +' it is an odd number')"
   ]
  },
  {
   "cell_type": "markdown",
   "metadata": {},
   "source": [
    "### 2.b. Ask the user for 3 integer inputs `val_1`, `val_2` and `val_3` .  Create also a variable `val_min`. And then whith the help of if (elif, else) statement ,make the variable `val_min`get the *minimum value* of the `val_1` , `val_2` and `val_3` (without using any other method or function, ONLY with IF and ELIF) "
   ]
  },
  {
   "cell_type": "code",
   "execution_count": 49,
   "metadata": {},
   "outputs": [
    {
     "name": "stdin",
     "output_type": "stream",
     "text": [
      "Enter Value 1:  5\n",
      "Enter Value 2:  4\n",
      "Enter Value 3:  2\n"
     ]
    },
    {
     "name": "stdout",
     "output_type": "stream",
     "text": [
      "The minimum value is 2\n"
     ]
    }
   ],
   "source": [
    "#### for example ilf val_1 = 3, val_2 = 4 and val_3 = 7 then val_min shoud be 3\n",
    "val_1 = int(input(\"Enter Value 1: \"))\n",
    "val_2 = int(input(\"Enter Value 2: \"))\n",
    "val_3 = int(input(\"Enter Value 3: \"))\n",
    "\n",
    "if val_1<val_2 and val_1<val_3:\n",
    "    val_min= val_1\n",
    "elif val_2<val_1 and val_2<val_3:\n",
    "    val_min= val_2\n",
    "elif val_3<val_1 and val_3<val_2:\n",
    "    val_min=val_3\n",
    "    \n",
    "print ('The minimum value is ' + format(val_min))\n"
   ]
  },
  {
   "cell_type": "markdown",
   "metadata": {},
   "source": [
    "### 2.b. Ask the user for an input (Integer), save it to a variable called `user_number` and print if the entered number is a negative or a positive number \n"
   ]
  },
  {
   "cell_type": "markdown",
   "metadata": {},
   "source": [
    "#### ask for the number \n",
    "num1 = int(input(\"Enter a number \"))\n",
    "if num1 >=0:\n",
    "    print ('The number is a postive number ')\n",
    "else :\n",
    "    print (' The number is a negative number')\n"
   ]
  },
  {
   "cell_type": "markdown",
   "metadata": {},
   "source": [
    "### 2.c. We want to securise a pressurized cabins: \n",
    "The max pressure is : pMax = 2.3, and the max area is aMax = 7.41.\n",
    "Ask the user for the actual pression and area\n",
    "- if both, the area and the pression are higher than the pMax and aMax, then write: \"stop immediately\"\n",
    "- if the pressure is higher than the pMax, then write: \"Please, add more area!\"\n",
    "- if the area is higher the aMax, then write: \"Please, lower the area!\"\n",
    "- else, write: \"everything is fine!\" \n"
   ]
  },
  {
   "cell_type": "code",
   "execution_count": 60,
   "metadata": {},
   "outputs": [
    {
     "name": "stdin",
     "output_type": "stream",
     "text": [
      "Enter the pressure  2.4\n",
      "Enter the area  7.5\n"
     ]
    },
    {
     "name": "stdout",
     "output_type": "stream",
     "text": [
      "stop immediately \n"
     ]
    }
   ],
   "source": [
    "# declare the pMax=2.3 and aMax=7.41\n",
    "\n",
    "# ask for the actual area and pressure \n",
    "\n",
    "pmax = 2.3\n",
    "amax = 7.41\n",
    "\n",
    "\n",
    "p = float(input(\"Enter the pressure \"))\n",
    "a = float(input(\"Enter the area \"))\n",
    "\n",
    "if p>pmax and a>amax:\n",
    "    print ('stop immediately ')\n",
    "elif p>pmax and a<amax:\n",
    "    print ('Please, add more area!')\n",
    "elif a>amax and p<pmax:\n",
    "    print ('Please, lower the area!')\n",
    "else :\n",
    "    print ('everything is fine!')"
   ]
  },
  {
   "cell_type": "code",
   "execution_count": null,
   "metadata": {},
   "outputs": [],
   "source": []
  },
  {
   "cell_type": "code",
   "execution_count": null,
   "metadata": {},
   "outputs": [],
   "source": []
  }
 ],
 "metadata": {
  "kernelspec": {
   "display_name": "Python 3",
   "language": "python",
   "name": "python3"
  },
  "language_info": {
   "codemirror_mode": {
    "name": "ipython",
    "version": 3
   },
   "file_extension": ".py",
   "mimetype": "text/x-python",
   "name": "python",
   "nbconvert_exporter": "python",
   "pygments_lexer": "ipython3",
   "version": "3.8.3"
  }
 },
 "nbformat": 4,
 "nbformat_minor": 4
}
