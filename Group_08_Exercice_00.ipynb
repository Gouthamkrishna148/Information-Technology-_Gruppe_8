{
 "cells": [
  {
   "cell_type": "markdown",
   "metadata": {},
   "source": [
    "# Exercice 00\n",
    "\n",
    "## 1 Numbers\n",
    "### 1.a. What is the *type* of the result of the expression 3 + 1.5 + 4?<br><br> (without typing code) "
   ]
  },
  {
   "cell_type": "raw",
   "metadata": {},
   "source": [
    "# type float"
   ]
  },
  {
   "cell_type": "markdown",
   "metadata": {},
   "source": [
    "### 1.b. How do you get it with code? (method?) "
   ]
  },
  {
   "cell_type": "code",
   "execution_count": 3,
   "metadata": {},
   "outputs": [
    {
     "data": {
      "text/plain": [
       "float"
      ]
     },
     "execution_count": 3,
     "metadata": {},
     "output_type": "execute_result"
    }
   ],
   "source": [
    "# get the type of the result from 1.a \n",
    "type(3+1.5+4)"
   ]
  },
  {
   "cell_type": "markdown",
   "metadata": {},
   "source": [
    "### 1.c. Ask the user for an iput and then save to input to an integer called \"user_in\" and then print the value multiplied by 5. "
   ]
  },
  {
   "cell_type": "code",
   "execution_count": 21,
   "metadata": {},
   "outputs": [
    {
     "name": "stdin",
     "output_type": "stream",
     "text": [
      "please enter an integer 34262\n"
     ]
    },
    {
     "name": "stdout",
     "output_type": "stream",
     "text": [
      "171310\n"
     ]
    }
   ],
   "source": [
    "# value multiplied by 5\n",
    "user_in = int(input(\"please enter an integer\"))\n",
    "print(user_in * 5)"
   ]
  },
  {
   "cell_type": "markdown",
   "metadata": {},
   "source": [
    "### 1.d. Ask the user for an iput and then save to input to an integer called \"square_root_value\" and calculate the square_root of the number from the user"
   ]
  },
  {
   "cell_type": "code",
   "execution_count": 117,
   "metadata": {},
   "outputs": [
    {
     "name": "stdin",
     "output_type": "stream",
     "text": [
      "Please enter a number 36\n"
     ]
    },
    {
     "name": "stdout",
     "output_type": "stream",
     "text": [
      "6.0\n"
     ]
    }
   ],
   "source": [
    "# Square root\n",
    "\n",
    "square_root_value = int(input(\"Please enter a number\"))\n",
    "print(square_root_value**0.5)\n"
   ]
  },
  {
   "cell_type": "markdown",
   "metadata": {},
   "source": [
    "### 1.e. Ask the user for an iput and then save to input to an integer called \"square_value\" and calculate the square of the number from the user"
   ]
  },
  {
   "cell_type": "code",
   "execution_count": 28,
   "metadata": {},
   "outputs": [
    {
     "name": "stdin",
     "output_type": "stream",
     "text": [
      "enter a value 20\n"
     ]
    },
    {
     "name": "stdout",
     "output_type": "stream",
     "text": [
      "400\n"
     ]
    }
   ],
   "source": [
    "# Square\n",
    "square_value = int(input(\"enter a value\"))\n",
    "print(square_value * square_value)"
   ]
  },
  {
   "cell_type": "markdown",
   "metadata": {},
   "source": [
    "## 2 Strings"
   ]
  },
  {
   "cell_type": "markdown",
   "metadata": {},
   "source": [
    "### 2.a. Given the string 'hello' give an index command that returns 'e'. Enter your code in the cell below:"
   ]
  },
  {
   "cell_type": "code",
   "execution_count": 29,
   "metadata": {},
   "outputs": [
    {
     "data": {
      "text/plain": [
       "'e'"
      ]
     },
     "execution_count": 29,
     "metadata": {},
     "output_type": "execute_result"
    }
   ],
   "source": [
    "greeting = 'hello'\n",
    "# Print out 'e' using indexing\n",
    "\n",
    "greeting[1]\n"
   ]
  },
  {
   "cell_type": "markdown",
   "metadata": {},
   "source": [
    "### 2.b. Given the string 'hello' give an index command that returns 'hell'. Enter your code in the cell below:\n"
   ]
  },
  {
   "cell_type": "code",
   "execution_count": 51,
   "metadata": {},
   "outputs": [
    {
     "data": {
      "text/plain": [
       "'hell'"
      ]
     },
     "execution_count": 51,
     "metadata": {},
     "output_type": "execute_result"
    }
   ],
   "source": [
    "greeting = 'hello'\n",
    "# Print out 'hell' using indexing\n",
    "\n",
    "greeting[0:4]"
   ]
  },
  {
   "cell_type": "markdown",
   "metadata": {},
   "source": [
    "### 2.c Given the string 'hello', create a new string variable called 'greeting_rest' from it to and save 'llo' in the new variable"
   ]
  },
  {
   "cell_type": "code",
   "execution_count": 56,
   "metadata": {},
   "outputs": [
    {
     "data": {
      "text/plain": [
       "'llo'"
      ]
     },
     "execution_count": 56,
     "metadata": {},
     "output_type": "execute_result"
    }
   ],
   "source": [
    "greeting = 'hello'\n",
    "# Save the part 'llo' in a new variable called 'greeting_rest' using indexing\n",
    "\n",
    "greeting_rest =  greeting[-3:]\n",
    "\n",
    "greeting_rest \n"
   ]
  },
  {
   "cell_type": "markdown",
   "metadata": {},
   "source": [
    "### 2.d. Ask the user for his or her name and then save the input to a variable named \"user_name\". Then print \"Hello, *user_name* !\""
   ]
  },
  {
   "cell_type": "code",
   "execution_count": 57,
   "metadata": {},
   "outputs": [
    {
     "name": "stdin",
     "output_type": "stream",
     "text": [
      "Enter your Name Krishna\n"
     ]
    },
    {
     "name": "stdout",
     "output_type": "stream",
     "text": [
      "Hello, Krishna !\n"
     ]
    }
   ],
   "source": [
    "user_name = input(\"Enter your Name\")\n",
    "\n",
    "print(f\"Hello, {user_name} !\")\n"
   ]
  },
  {
   "cell_type": "markdown",
   "metadata": {},
   "source": [
    "### 2.e. Ask the user for his or her 'first_name', 'last_name' and 'age' and print the reust in a multi-line string like: \n",
    "'Hello, `first_name` `last_name`. \n",
    "\n",
    "You are `age` years old. '"
   ]
  },
  {
   "cell_type": "code",
   "execution_count": 63,
   "metadata": {},
   "outputs": [
    {
     "name": "stdin",
     "output_type": "stream",
     "text": [
      "Enter your first name Goutham Krishna\n",
      "Enter your last name Munaga\n",
      "Enter your age 27\n"
     ]
    },
    {
     "name": "stdout",
     "output_type": "stream",
     "text": [
      "'Hello, Goutham Krishna Munaga. \n",
      "\n",
      "You are 27 years old.'\n"
     ]
    }
   ],
   "source": [
    "# hint: 3 inputs => 3 variables\n",
    "\n",
    "first_name = input(\"Enter your first name\")\n",
    "last_name = input(\"Enter your last name\")\n",
    "age = int(input(\"Enter your age\"))\n",
    "\n",
    "print(f\"'Hello, {first_name} {last_name}. \\n\\nYou are {age} years old.'\")\n",
    "                   \n"
   ]
  },
  {
   "cell_type": "markdown",
   "metadata": {},
   "source": [
    "## 3. List"
   ]
  },
  {
   "cell_type": "markdown",
   "metadata": {},
   "source": [
    "### 3.a Create a list with 4 elements \"45,25,56\" in two differents way and save it to a variable called 'my_list'"
   ]
  },
  {
   "cell_type": "code",
   "execution_count": 77,
   "metadata": {},
   "outputs": [
    {
     "name": "stdout",
     "output_type": "stream",
     "text": [
      "[45, 25, 56, 36]\n",
      "[45, 25, 56, 'Moin']\n",
      "[45, 25, 56, 36]\n",
      "[45, 25, 56, 36]\n"
     ]
    }
   ],
   "source": [
    "# my_list = \n",
    "\n",
    "my_list = [45,25,56,36] # first method to create desired list\n",
    "print(my_list) \n",
    "\n",
    "my_list = [45,25,56, \"Moin\"] #An example to create a list with multiple datatypes\n",
    "print(my_list) \n",
    "\n",
    "my_list = [] # Another way to create desired list, append methdod could also be used to create desired list\n",
    "my_list = my_list + [45, 25] \n",
    "my_list = my_list + [56,36] \n",
    "\n",
    "print(my_list) \n",
    "\n",
    "my_list = [45] #  append methdod could also be used to create a desired list\n",
    "my_list.append(25) \n",
    "my_list.append(56)\n",
    "my_list.append(36) \n",
    "\n",
    "print(my_list)\n"
   ]
  },
  {
   "cell_type": "markdown",
   "metadata": {},
   "source": [
    "### 3.b. From 'my_list' change the first value (index 0) to 0."
   ]
  },
  {
   "cell_type": "code",
   "execution_count": 78,
   "metadata": {},
   "outputs": [
    {
     "name": "stdout",
     "output_type": "stream",
     "text": [
      "[0, 25, 56, 36]\n"
     ]
    }
   ],
   "source": [
    "# index 0 must be 0 \n",
    "\n",
    "my_list[0] = 0\n",
    "\n",
    "print(my_list)"
   ]
  },
  {
   "cell_type": "markdown",
   "metadata": {},
   "source": [
    "### 3.c. Save the sum of all number in the list to a variable called 'sum_of_my_list' "
   ]
  },
  {
   "cell_type": "code",
   "execution_count": 81,
   "metadata": {},
   "outputs": [
    {
     "name": "stdout",
     "output_type": "stream",
     "text": [
      "117\n"
     ]
    }
   ],
   "source": [
    "# sum of 0,25,56\n",
    "\n",
    "sum_of_my_list = sum(my_list)\n",
    "\n",
    "print(sum_of_my_list)"
   ]
  },
  {
   "cell_type": "markdown",
   "metadata": {},
   "source": [
    "### 3.d. sort the list bellow: "
   ]
  },
  {
   "cell_type": "code",
   "execution_count": 87,
   "metadata": {},
   "outputs": [
    {
     "name": "stdout",
     "output_type": "stream",
     "text": [
      "[2, 3, 4, 5, 6, 6, 7, 9]\n"
     ]
    }
   ],
   "source": [
    "list1 = [4,5,6,3,6,7,2,9]\n",
    "\n",
    "list1.sort()\n",
    "print(list1)"
   ]
  },
  {
   "cell_type": "markdown",
   "metadata": {},
   "source": [
    "### 3.e. Get the last 3 elements of the list using indexing and save it to a variable called 'list2'. Then make again the sum of 'list2' and insert the result to 'list2' "
   ]
  },
  {
   "cell_type": "code",
   "execution_count": 92,
   "metadata": {},
   "outputs": [
    {
     "name": "stdout",
     "output_type": "stream",
     "text": [
      "[6, 7, 9]\n",
      "[6, 7, 9, 22]\n"
     ]
    }
   ],
   "source": [
    "# hint: you might use 3 differents variables\n",
    "\n",
    "list2 = list1[-3:]\n",
    "\n",
    "print(list2)\n",
    "\n",
    "list2 + [sum(list2)]\n",
    "\n",
    "print(list2 + [sum(list2)])\n",
    "\n"
   ]
  },
  {
   "cell_type": "markdown",
   "metadata": {},
   "source": [
    "### 3.f. swap list elements\n",
    "Swap the first and last elements from the list `one_to_five`\n"
   ]
  },
  {
   "cell_type": "code",
   "execution_count": 97,
   "metadata": {},
   "outputs": [
    {
     "name": "stdout",
     "output_type": "stream",
     "text": [
      "[1, 2, 3, 4, 5]\n"
     ]
    }
   ],
   "source": [
    "# create list \n",
    "one_to_five = [5,2,3,4,1]\n",
    "first = one_to_five[0]\n",
    "one_to_five[0] = one_to_five[-1]\n",
    "one_to_five[-1] = first\n",
    "\n",
    "print(one_to_five)\n"
   ]
  },
  {
   "cell_type": "markdown",
   "metadata": {},
   "source": [
    "## 4. Dictionaries \n",
    "Using keys and indexing, grap the word *Bremerhaven* from the following dictionaries: "
   ]
  },
  {
   "cell_type": "code",
   "execution_count": 98,
   "metadata": {},
   "outputs": [
    {
     "data": {
      "text/plain": [
       "'Bremerhaven'"
      ]
     },
     "execution_count": 98,
     "metadata": {},
     "output_type": "execute_result"
    }
   ],
   "source": [
    "name = {'university':'Bremerhaven'}\n",
    "# Get 'Bremerhaven'\n",
    "\n",
    "name[\"university\"]\n"
   ]
  },
  {
   "cell_type": "code",
   "execution_count": 107,
   "metadata": {},
   "outputs": [
    {
     "data": {
      "text/plain": [
       "'Bremerhaven'"
      ]
     },
     "execution_count": 107,
     "metadata": {},
     "output_type": "execute_result"
    }
   ],
   "source": [
    "name = {'institution':{'name':'Bremerhaven'}}\n",
    "# Get 'Bremerhaven'\n",
    "\n",
    "name[\"institution\"][\"name\"]"
   ]
  },
  {
   "cell_type": "code",
   "execution_count": 115,
   "metadata": {},
   "outputs": [
    {
     "data": {
      "text/plain": [
       "'Bremerhaven'"
      ]
     },
     "execution_count": 115,
     "metadata": {},
     "output_type": "execute_result"
    }
   ],
   "source": [
    "name = {'region':[{'University':'Oldenburg','Hochschule':'Bremerhaven'}]}\n",
    "# Get Bremerhaven \n",
    "name['region'][0]['Hochschule']\n",
    "\n"
   ]
  },
  {
   "cell_type": "markdown",
   "metadata": {},
   "source": [
    "## 5. What is the major difference between tuples and lists? "
   ]
  },
  {
   "cell_type": "raw",
   "metadata": {},
   "source": [
    "Tuples are immutable objects but lists are mutable"
   ]
  },
  {
   "cell_type": "markdown",
   "metadata": {},
   "source": [
    "## 6. Sets\n",
    "### 6.a. What is unique about a set?`\n"
   ]
  },
  {
   "cell_type": "raw",
   "metadata": {},
   "source": [
    "the set list is unordered, so the result will display the items in a random order.\n",
    "\n",
    "-Set only stores a value once even if it is inserted more then once"
   ]
  },
  {
   "cell_type": "markdown",
   "metadata": {},
   "source": [
    "### 6.b. Use a set to find the unique values of the list below: "
   ]
  },
  {
   "cell_type": "code",
   "execution_count": 128,
   "metadata": {},
   "outputs": [
    {
     "name": "stdout",
     "output_type": "stream",
     "text": [
      "{1, 2, 3, 4, 5, 7, 8, 9, 74, 12, 45}\n"
     ]
    }
   ],
   "source": [
    "# create the list\n",
    "unsorted_list = [1,2,2,1,3,5,4,8,7,74,8,8,9,9,5,4,45,12,4,2]\n",
    "\n",
    "x = set(unsorted_list)\n",
    "\n",
    "print(x)\n",
    "\n"
   ]
  },
  {
   "cell_type": "markdown",
   "metadata": {},
   "source": [
    "## 6. Boolean \n",
    "What will be the value of the following boolean? \n"
   ]
  },
  {
   "cell_type": "code",
   "execution_count": 99,
   "metadata": {},
   "outputs": [
    {
     "data": {
      "text/plain": [
       "False"
      ]
     },
     "execution_count": 99,
     "metadata": {},
     "output_type": "execute_result"
    }
   ],
   "source": [
    "4**0.5 != 2"
   ]
  },
  {
   "cell_type": "code",
   "execution_count": 119,
   "metadata": {},
   "outputs": [
    {
     "data": {
      "text/plain": [
       "True"
      ]
     },
     "execution_count": 119,
     "metadata": {},
     "output_type": "execute_result"
    }
   ],
   "source": [
    "a = 1 < 4\n",
    "a"
   ]
  },
  {
   "cell_type": "code",
   "execution_count": 120,
   "metadata": {},
   "outputs": [
    {
     "data": {
      "text/plain": [
       "True"
      ]
     },
     "execution_count": 120,
     "metadata": {},
     "output_type": "execute_result"
    }
   ],
   "source": [
    "b = 'b' < 'c'\n",
    "b"
   ]
  },
  {
   "cell_type": "code",
   "execution_count": 125,
   "metadata": {},
   "outputs": [
    {
     "data": {
      "text/plain": [
       "True"
      ]
     },
     "execution_count": 125,
     "metadata": {},
     "output_type": "execute_result"
    }
   ],
   "source": [
    "c = (a == b)\n",
    "c "
   ]
  },
  {
   "cell_type": "code",
   "execution_count": 126,
   "metadata": {},
   "outputs": [
    {
     "data": {
      "text/plain": [
       "True"
      ]
     },
     "execution_count": 126,
     "metadata": {},
     "output_type": "execute_result"
    }
   ],
   "source": [
    "d = (c or False)\n",
    "d"
   ]
  },
  {
   "cell_type": "code",
   "execution_count": 127,
   "metadata": {},
   "outputs": [
    {
     "data": {
      "text/plain": [
       "False"
      ]
     },
     "execution_count": 127,
     "metadata": {},
     "output_type": "execute_result"
    }
   ],
   "source": [
    "e = (c and False) # equivalent to 'e=((a==b) and False)' <=> 'e=(((1<4)==('b'<'c')) and False' \n",
    "e"
   ]
  },
  {
   "cell_type": "code",
   "execution_count": null,
   "metadata": {},
   "outputs": [],
   "source": []
  }
 ],
 "metadata": {
  "kernelspec": {
   "display_name": "Python 3",
   "language": "python",
   "name": "python3"
  },
  "language_info": {
   "codemirror_mode": {
    "name": "ipython",
    "version": 3
   },
   "file_extension": ".py",
   "mimetype": "text/x-python",
   "name": "python",
   "nbconvert_exporter": "python",
   "pygments_lexer": "ipython3",
   "version": "3.8.3"
  }
 },
 "nbformat": 4,
 "nbformat_minor": 4
}
